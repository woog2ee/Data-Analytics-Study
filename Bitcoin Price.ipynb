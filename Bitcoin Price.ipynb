{
 "cells": [
  {
   "cell_type": "markdown",
   "id": "matched-webmaster",
   "metadata": {},
   "source": [
    "# 경향성 시각화 코드"
   ]
  },
  {
   "cell_type": "markdown",
   "id": "buried-entry",
   "metadata": {},
   "source": [
    "# 1. Library Import"
   ]
  },
  {
   "cell_type": "code",
   "execution_count": 1,
   "id": "binary-welcome",
   "metadata": {},
   "outputs": [],
   "source": [
    "import numpy as np\n",
    "import pandas as pd\n",
    "import gc\n",
    "import math\n",
    "import os.path\n",
    "import time\n",
    "import matplotlib.pyplot as plt\n",
    "\n",
    "from datetime import timedelta, datetime\n",
    "from dateutil import parser\n",
    "from tqdm import tqdm\n",
    "import copy\n",
    "from statsmodels.tsa.arima.model import ARIMA\n",
    "import warnings\n",
    "warnings.filterwarnings(\"ignore\")"
   ]
  },
  {
   "cell_type": "markdown",
   "id": "angry-pierce",
   "metadata": {},
   "source": [
    "# 2. 데이터 불러오기\n",
    "> **1) read_csv**"
   ]
  },
  {
   "cell_type": "code",
   "execution_count": 2,
   "id": "modern-vehicle",
   "metadata": {},
   "outputs": [
    {
     "name": "stdout",
     "output_type": "stream",
     "text": [
      "train_x_df\n"
     ]
    },
    {
     "data": {
      "text/html": [
       "<div>\n",
       "<style scoped>\n",
       "    .dataframe tbody tr th:only-of-type {\n",
       "        vertical-align: middle;\n",
       "    }\n",
       "\n",
       "    .dataframe tbody tr th {\n",
       "        vertical-align: top;\n",
       "    }\n",
       "\n",
       "    .dataframe thead th {\n",
       "        text-align: right;\n",
       "    }\n",
       "</style>\n",
       "<table border=\"1\" class=\"dataframe\">\n",
       "  <thead>\n",
       "    <tr style=\"text-align: right;\">\n",
       "      <th></th>\n",
       "      <th>sample_id</th>\n",
       "      <th>time</th>\n",
       "      <th>coin_index</th>\n",
       "      <th>open</th>\n",
       "      <th>high</th>\n",
       "      <th>low</th>\n",
       "      <th>close</th>\n",
       "      <th>volume</th>\n",
       "      <th>quote_av</th>\n",
       "      <th>trades</th>\n",
       "      <th>tb_base_av</th>\n",
       "      <th>tb_quote_av</th>\n",
       "    </tr>\n",
       "  </thead>\n",
       "  <tbody>\n",
       "    <tr>\n",
       "      <th>0</th>\n",
       "      <td>0</td>\n",
       "      <td>0</td>\n",
       "      <td>7</td>\n",
       "      <td>1.010004</td>\n",
       "      <td>1.010004</td>\n",
       "      <td>1.009612</td>\n",
       "      <td>1.010004</td>\n",
       "      <td>8.382875e+05</td>\n",
       "      <td>43160.632812</td>\n",
       "      <td>451.157288</td>\n",
       "      <td>7.326834e+05</td>\n",
       "      <td>37725.183594</td>\n",
       "    </tr>\n",
       "    <tr>\n",
       "      <th>1</th>\n",
       "      <td>0</td>\n",
       "      <td>1</td>\n",
       "      <td>7</td>\n",
       "      <td>1.009808</td>\n",
       "      <td>1.009808</td>\n",
       "      <td>1.009808</td>\n",
       "      <td>1.009808</td>\n",
       "      <td>1.622420e+05</td>\n",
       "      <td>8352.220703</td>\n",
       "      <td>39.231071</td>\n",
       "      <td>0.000000e+00</td>\n",
       "      <td>0.000000</td>\n",
       "    </tr>\n",
       "    <tr>\n",
       "      <th>2</th>\n",
       "      <td>0</td>\n",
       "      <td>2</td>\n",
       "      <td>7</td>\n",
       "      <td>1.009808</td>\n",
       "      <td>1.010200</td>\n",
       "      <td>1.009808</td>\n",
       "      <td>1.010200</td>\n",
       "      <td>1.664967e+04</td>\n",
       "      <td>857.377808</td>\n",
       "      <td>58.846603</td>\n",
       "      <td>1.664967e+04</td>\n",
       "      <td>857.377808</td>\n",
       "    </tr>\n",
       "    <tr>\n",
       "      <th>3</th>\n",
       "      <td>0</td>\n",
       "      <td>3</td>\n",
       "      <td>7</td>\n",
       "      <td>1.010200</td>\n",
       "      <td>1.011181</td>\n",
       "      <td>1.010200</td>\n",
       "      <td>1.011181</td>\n",
       "      <td>2.586971e+06</td>\n",
       "      <td>133310.343750</td>\n",
       "      <td>431.541779</td>\n",
       "      <td>2.189147e+06</td>\n",
       "      <td>112811.046875</td>\n",
       "    </tr>\n",
       "    <tr>\n",
       "      <th>4</th>\n",
       "      <td>0</td>\n",
       "      <td>4</td>\n",
       "      <td>7</td>\n",
       "      <td>1.010985</td>\n",
       "      <td>1.010985</td>\n",
       "      <td>1.010200</td>\n",
       "      <td>1.010200</td>\n",
       "      <td>1.129996e+06</td>\n",
       "      <td>58216.867188</td>\n",
       "      <td>176.539810</td>\n",
       "      <td>0.000000e+00</td>\n",
       "      <td>0.000000</td>\n",
       "    </tr>\n",
       "  </tbody>\n",
       "</table>\n",
       "</div>"
      ],
      "text/plain": [
       "   sample_id  time  coin_index      open      high       low     close  \\\n",
       "0          0     0           7  1.010004  1.010004  1.009612  1.010004   \n",
       "1          0     1           7  1.009808  1.009808  1.009808  1.009808   \n",
       "2          0     2           7  1.009808  1.010200  1.009808  1.010200   \n",
       "3          0     3           7  1.010200  1.011181  1.010200  1.011181   \n",
       "4          0     4           7  1.010985  1.010985  1.010200  1.010200   \n",
       "\n",
       "         volume       quote_av      trades    tb_base_av    tb_quote_av  \n",
       "0  8.382875e+05   43160.632812  451.157288  7.326834e+05   37725.183594  \n",
       "1  1.622420e+05    8352.220703   39.231071  0.000000e+00       0.000000  \n",
       "2  1.664967e+04     857.377808   58.846603  1.664967e+04     857.377808  \n",
       "3  2.586971e+06  133310.343750  431.541779  2.189147e+06  112811.046875  \n",
       "4  1.129996e+06   58216.867188  176.539810  0.000000e+00       0.000000  "
      ]
     },
     "execution_count": 2,
     "metadata": {},
     "output_type": "execute_result"
    }
   ],
   "source": [
    "train_x_df = pd.read_csv(\"./train_x_df.csv\")\n",
    "train_y_df = pd.read_csv(\"./train_y_df.csv\")\n",
    "test_x_df = pd.read_csv(\"./test_x_df.csv\")\n",
    "\n",
    "print('train_x_df')\n",
    "train_x_df.head(5)"
   ]
  },
  {
   "cell_type": "code",
   "execution_count": 3,
   "id": "recreational-riding",
   "metadata": {},
   "outputs": [
    {
     "data": {
      "text/plain": [
       "0     5435.449219\n",
       "1     8352.220703\n",
       "2        0.000000\n",
       "3    20499.296875\n",
       "4    58216.867188\n",
       "dtype: float64"
      ]
     },
     "execution_count": 3,
     "metadata": {},
     "output_type": "execute_result"
    }
   ],
   "source": [
    "totalquote = train_x_df['quote_av']\n",
    "tbquote = train_x_df['tb_quote_av'] # taker buy quote asset volume\n",
    "mbquote = totalquote - tbquote # maker buy quote asset volume\n",
    "\n",
    "mbquote.head(5)"
   ]
  },
  {
   "cell_type": "markdown",
   "id": "atmospheric-mentor",
   "metadata": {},
   "source": [
    "> **2) numpy array로 변환하기**"
   ]
  },
  {
   "cell_type": "code",
   "execution_count": 4,
   "id": "built-basin",
   "metadata": {},
   "outputs": [],
   "source": [
    "def df2d_to_array3d(df_2d):\n",
    "    # 입력 받은 2차원 데이터 프레임을 3차원 numpy array로 변경\n",
    "    feature_size = df_2d.iloc[:, 2:].shape[1]\n",
    "    time_size = len(df_2d.time.value_counts())\n",
    "    sample_size = len(df_2d.sample_id.value_counts())\n",
    "    array_3d = df_2d.iloc[:, 2:].values.reshape([sample_size, time_size, feature_size])\n",
    "    return array_3d"
   ]
  },
  {
   "cell_type": "code",
   "execution_count": 5,
   "id": "acting-despite",
   "metadata": {},
   "outputs": [],
   "source": [
    "train_x_array = df2d_to_array3d(train_x_df)\n",
    "train_y_array = df2d_to_array3d(train_y_df)\n",
    "test_x_array = df2d_to_array3d(test_x_df)"
   ]
  },
  {
   "cell_type": "code",
   "execution_count": 6,
   "id": "physical-closure",
   "metadata": {},
   "outputs": [
    {
     "name": "stdout",
     "output_type": "stream",
     "text": [
      " train_x_array (7362, 1380, 10)\n",
      " train_y_array (7362, 120, 10)\n",
      " test_x_array (529, 1380, 10)\n"
     ]
    }
   ],
   "source": [
    "print(f\" train_x_array {train_x_array.shape}\\n train_y_array {train_y_array.shape}\\n test_x_array {test_x_array.shape}\")"
   ]
  },
  {
   "cell_type": "markdown",
   "id": "rough-campaign",
   "metadata": {},
   "source": [
    "> **3) 샘플 확인하기**"
   ]
  },
  {
   "cell_type": "code",
   "execution_count": 7,
   "id": "focal-northern",
   "metadata": {},
   "outputs": [],
   "source": [
    "def plot_series(x_series, y_series):\n",
    "    # 입력 series와 출력 series를 연속적으로 연결해 시각화\n",
    "    plt.plot(x_series, label='input_series')\n",
    "    plt.plot(np.arange(len(x_series), len(x_series)+len(y_series)), y_series, label='output_series')\n",
    "    plt.axhline(1, c='red')\n",
    "    plt.legend()"
   ]
  },
  {
   "cell_type": "code",
   "execution_count": 8,
   "id": "developing-tribute",
   "metadata": {},
   "outputs": [
    {
     "data": {
      "image/png": "[encoded data removed]",
      "text/plain": [
       "<Figure size 432x288 with 1 Axes>"
      ]
     },
     "metadata": {
      "needs_background": "light"
     },
     "output_type": "display_data"
    }
   ],
   "source": [
    "# sample_id 1012에 해당하는 샘플의 분단위 시가 변동 정보 시각화\n",
    "idx = 1012\n",
    "plot_series(train_x_array[idx,:,1], train_y_array[idx,:,1])\n",
    "plt.show()"
   ]
  },
  {
   "cell_type": "markdown",
   "id": "environmental-footwear",
   "metadata": {},
   "source": [
    "# 3. 모델 훈련하기\n",
    "> **1) train 샘플 훈련하기**"
   ]
  },
  {
   "cell_type": "code",
   "execution_count": 9,
   "id": "disturbed-dinner",
   "metadata": {},
   "outputs": [
    {
     "data": {
      "image/png": "[encoded data removed]",
      "text/plain": [
       "<Figure size 432x288 with 1 Axes>"
      ]
     },
     "metadata": {
      "needs_background": "light"
     },
     "output_type": "display_data"
    }
   ],
   "source": [
    "idx = 1121\n",
    "# train data 중 sample_id 1121에 해당하는 x_series로 arima 모델을 학습 후\n",
    "# y_series를 추론\n",
    "x_series = train_x_array[idx,:,1]\n",
    "y_series = train_y_array[idx,:,1]\n",
    "\n",
    "# ARIMA의 (p,d,q) 값은 최적화되지 않은 값\n",
    "model = ARIMA(x_series, order=(3,0,1))\n",
    "fit = model.fit()\n",
    "preds = fit.predict(1, 120, typ='levels')\n",
    "\n",
    "plot_series(x_series, y_series)\n",
    "plt.plot(np.arange(1380, 1380+120), preds, label='prediction')\n",
    "plt.legend()\n",
    "plt.show()"
   ]
  },
  {
   "cell_type": "markdown",
   "id": "concerned-nebraska",
   "metadata": {},
   "source": [
    "> **2-1) validation 데이터 생성하기**"
   ]
  },
  {
   "cell_type": "code",
   "execution_count": 10,
   "id": "convenient-librarian",
   "metadata": {},
   "outputs": [],
   "source": [
    "# train 데이터 상단 300개 샘플로 validation set을 구성해 학습 및 추론\n",
    "valid_x_df = train_x_df[train_x_df.sample_id < 300]\n",
    "valid_y_df = train_y_df[train_y_df.sample_id < 300]\n",
    "\n",
    "valid_x_array = df2d_to_array3d(valid_x_df)\n",
    "valid_y_array = df2d_to_array3d(valid_y_df)\n",
    "valid_pred_array = np.zeros([300, 120])"
   ]
  },
  {
   "cell_type": "markdown",
   "id": "expanded-latex",
   "metadata": {},
   "source": [
    "> **2-2) 학습 및 추론하기**"
   ]
  },
  {
   "cell_type": "code",
   "execution_count": 11,
   "id": "massive-nation",
   "metadata": {},
   "outputs": [
    {
     "name": "stderr",
     "output_type": "stream",
     "text": [
      "100%|████████████████████████████████████████████████████████████████████████████████| 300/300 [03:43<00:00,  1.34it/s]\n"
     ]
    }
   ],
   "source": [
    "# ARIMA의 (p,d,q) 값이 (5,1,1)에서 수렴하지 않을 경우\n",
    "# (4,1,1)로 변경하여 다시 학습 및 추론\n",
    "for idx in tqdm(range(valid_x_array.shape[0])):\n",
    "    try:\n",
    "        try:\n",
    "            x_series = valid_x_array[idx,:,1]\n",
    "            \n",
    "            model = ARIMA(x_series, order=(5,1,1))\n",
    "            fit = model.fit()\n",
    "            preds = fit.predict(1, 120, type='levels')\n",
    "            valid_pred_array[idx,:] = preds\n",
    "        except:\n",
    "            print(\"order 4 1 1\")\n",
    "            x_series = valid_x_array[idx,:,1]\n",
    "            \n",
    "            model = ARIMA(x_series, order=(4,1,1))\n",
    "            fit = model.fit()\n",
    "            preds = fit.predict(1, 120, typ='levels')\n",
    "            valid_pred_array[idx,:] = preds\n",
    "    except:\n",
    "        print(idx, \" 샘플은 수렴하지 않습니다.\")\n",
    "        # ARIMA의 (p,d,q) 값이 (5,1,1), (4,1,1)에서 수렴하지 않을 경우\n",
    "        # 모두 0으로 채움\n",
    "        pass"
   ]
  },
  {
   "cell_type": "markdown",
   "id": "living-onion",
   "metadata": {},
   "source": [
    "> **2-3) valid_pred_array로부터 buy_quantity, sell_time 구하기**"
   ]
  },
  {
   "cell_type": "code",
   "execution_count": 12,
   "id": "increased-seeker",
   "metadata": {},
   "outputs": [],
   "source": [
    "def array_to_submission(x_array, pred_array):\n",
    "    # 입력 x_array와 출력 pred_array를 통해서\n",
    "    # buy_quantity와 sell_time을 결정\n",
    "    submission = pd.DataFrame(np.zeros([pred_array.shape[0],2], np.int64),\n",
    "                              columns=['buy_quantity','sell_time'])\n",
    "    submission = submission.reset_index()\n",
    "    submission.loc[:,'buy_quantity'] = 0.1\n",
    "    \n",
    "    buy_price = []\n",
    "    for idx, sell_time in enumerate(np.argmax(pred_array, axis=1)):\n",
    "        buy_price.append(pred_array[idx, sell_time])\n",
    "    buy_price = np.array(buy_price)\n",
    "    \n",
    "    # 115% 이상 상승하고 예측한 sample에 대해서만 100% 매수\n",
    "    submission.loc[:,'buy_quantity'] = (buy_price > 1.15) * 1\n",
    "    \n",
    "    # 모델이 예측값 중 최대 값에 해당하는 시간에 매도\n",
    "    submission['sell_time'] = np.argmax(pred_array, axis=1)\n",
    "    submission.columns =['sample_id', 'buy_quantity', 'sell_time']\n",
    "    return submission"
   ]
  },
  {
   "cell_type": "code",
   "execution_count": 13,
   "id": "administrative-bobby",
   "metadata": {},
   "outputs": [],
   "source": [
    "valid_submission = array_to_submission(valid_x_array, valid_pred_array)"
   ]
  },
  {
   "cell_type": "code",
   "execution_count": 14,
   "id": "vocal-alarm",
   "metadata": {},
   "outputs": [
    {
     "data": {
      "text/html": [
       "<div>\n",
       "<style scoped>\n",
       "    .dataframe tbody tr th:only-of-type {\n",
       "        vertical-align: middle;\n",
       "    }\n",
       "\n",
       "    .dataframe tbody tr th {\n",
       "        vertical-align: top;\n",
       "    }\n",
       "\n",
       "    .dataframe thead th {\n",
       "        text-align: right;\n",
       "    }\n",
       "</style>\n",
       "<table border=\"1\" class=\"dataframe\">\n",
       "  <thead>\n",
       "    <tr style=\"text-align: right;\">\n",
       "      <th></th>\n",
       "      <th>sample_id</th>\n",
       "      <th>buy_quantity</th>\n",
       "      <th>sell_time</th>\n",
       "    </tr>\n",
       "  </thead>\n",
       "  <tbody>\n",
       "    <tr>\n",
       "      <th>0</th>\n",
       "      <td>0</td>\n",
       "      <td>0</td>\n",
       "      <td>36</td>\n",
       "    </tr>\n",
       "    <tr>\n",
       "      <th>1</th>\n",
       "      <td>1</td>\n",
       "      <td>0</td>\n",
       "      <td>24</td>\n",
       "    </tr>\n",
       "    <tr>\n",
       "      <th>2</th>\n",
       "      <td>2</td>\n",
       "      <td>0</td>\n",
       "      <td>44</td>\n",
       "    </tr>\n",
       "    <tr>\n",
       "      <th>3</th>\n",
       "      <td>3</td>\n",
       "      <td>0</td>\n",
       "      <td>76</td>\n",
       "    </tr>\n",
       "    <tr>\n",
       "      <th>4</th>\n",
       "      <td>4</td>\n",
       "      <td>0</td>\n",
       "      <td>95</td>\n",
       "    </tr>\n",
       "    <tr>\n",
       "      <th>...</th>\n",
       "      <td>...</td>\n",
       "      <td>...</td>\n",
       "      <td>...</td>\n",
       "    </tr>\n",
       "    <tr>\n",
       "      <th>295</th>\n",
       "      <td>295</td>\n",
       "      <td>0</td>\n",
       "      <td>35</td>\n",
       "    </tr>\n",
       "    <tr>\n",
       "      <th>296</th>\n",
       "      <td>296</td>\n",
       "      <td>0</td>\n",
       "      <td>1</td>\n",
       "    </tr>\n",
       "    <tr>\n",
       "      <th>297</th>\n",
       "      <td>297</td>\n",
       "      <td>1</td>\n",
       "      <td>19</td>\n",
       "    </tr>\n",
       "    <tr>\n",
       "      <th>298</th>\n",
       "      <td>298</td>\n",
       "      <td>0</td>\n",
       "      <td>25</td>\n",
       "    </tr>\n",
       "    <tr>\n",
       "      <th>299</th>\n",
       "      <td>299</td>\n",
       "      <td>0</td>\n",
       "      <td>35</td>\n",
       "    </tr>\n",
       "  </tbody>\n",
       "</table>\n",
       "<p>300 rows × 3 columns</p>\n",
       "</div>"
      ],
      "text/plain": [
       "     sample_id  buy_quantity  sell_time\n",
       "0            0             0         36\n",
       "1            1             0         24\n",
       "2            2             0         44\n",
       "3            3             0         76\n",
       "4            4             0         95\n",
       "..         ...           ...        ...\n",
       "295        295             0         35\n",
       "296        296             0          1\n",
       "297        297             1         19\n",
       "298        298             0         25\n",
       "299        299             0         35\n",
       "\n",
       "[300 rows x 3 columns]"
      ]
     },
     "execution_count": 14,
     "metadata": {},
     "output_type": "execute_result"
    }
   ],
   "source": [
    "valid_submission"
   ]
  },
  {
   "cell_type": "code",
   "execution_count": 15,
   "id": "theoretical-agency",
   "metadata": {},
   "outputs": [
    {
     "data": {
      "text/plain": [
       "0    291\n",
       "1      9\n",
       "Name: buy_quantity, dtype: int64"
      ]
     },
     "execution_count": 15,
     "metadata": {},
     "output_type": "execute_result"
    }
   ],
   "source": [
    "# 전체 300가지 sample에 대해\n",
    "# 9가지 case에서 115% 이상 상승한다고 추론함\n",
    "valid_submission.buy_quantity.value_counts()"
   ]
  },
  {
   "cell_type": "markdown",
   "id": "biblical-electricity",
   "metadata": {},
   "source": [
    "> **2-4) 투자 후 금액 계산하기**"
   ]
  },
  {
   "cell_type": "code",
   "execution_count": 16,
   "id": "precious-thomson",
   "metadata": {},
   "outputs": [],
   "source": [
    "def df2d_to_answer(df_2d):\n",
    "    # valid_y_df로부터 open 가격 정보가 포함된\n",
    "    # [샘플 수, 120분] 크기의 2차원 array를 반환하는 함수\n",
    "    feature_size = df_2d.iloc[:,2:].shape[1]\n",
    "    time_size = len(df_2d.time.value_counts())\n",
    "    sample_size = len(df_2d.sample_id.value_counts())\n",
    "    sample_index = df_2d.sample_id.value_counts().index\n",
    "    array_2d = df_2d.open.values.reshape([sample_size, time_size])\n",
    "    sample_index = list(sample_index)\n",
    "    return array_2d, sample_index\n",
    "\n",
    "\n",
    "\n",
    "def COIN(y_df, submission, df2d_to_answer = df2d_to_answer):\n",
    "    # 2차원 데이터프레임에서 open 시점 데이터만 추출하여 array로 복원\n",
    "    # sample_id 정보를 index에 저장\n",
    "    y_array,index = df2d_to_answer(y_df)\n",
    "    \n",
    "    # index 기준으로 submission을 다시 선택\n",
    "    submission = submission.set_index(submission.columns[0])\n",
    "    submission = submission.iloc[index,:]\n",
    "    \n",
    "    # 초기 투자 비용은 10000 달러\n",
    "    total_money = 10000 # dollars\n",
    "    total_money_list = []\n",
    "    \n",
    "    # 가장 처음 sample_id 값\n",
    "    start_index = submission.index[0]\n",
    "    for row_idx in submission.index:\n",
    "        sell_time = submission.loc[row_idx, 'sell_time']\n",
    "        buy_price = y_array[row_idx - start_index, 0]\n",
    "        sell_price = y_array[row_idx - start_index, sell_time]\n",
    "        buy_quantity = submission.loc[row_idx, 'buy_quantity'] * total_money\n",
    "        residual = total_money - buy_quantity\n",
    "        ratio = sell_price / buy_price\n",
    "        total_money = buy_quantity * ratio * 0.9995 * 0.9995 + residual\n",
    "        total_money_list.append(total_money)\n",
    "        \n",
    "    return total_money, total_money_list"
   ]
  },
  {
   "cell_type": "code",
   "execution_count": 17,
   "id": "single-jacksonville",
   "metadata": {},
   "outputs": [],
   "source": [
    "total_money, total_money_list = COIN(valid_y_df, \n",
    "                                     valid_submission)"
   ]
  },
  {
   "cell_type": "code",
   "execution_count": 18,
   "id": "ranging-tractor",
   "metadata": {},
   "outputs": [
    {
     "name": "stdout",
     "output_type": "stream",
     "text": [
      "10253.164352622545\n"
     ]
    }
   ],
   "source": [
    "# 투자 후 금액\n",
    "print(total_money)"
   ]
  },
  {
   "cell_type": "code",
   "execution_count": 19,
   "id": "rapid-gates",
   "metadata": {},
   "outputs": [
    {
     "data": {
      "image/png": "[encoded data removed]",
      "text/plain": [
       "<Figure size 432x288 with 1 Axes>"
      ]
     },
     "metadata": {
      "needs_background": "light"
     },
     "output_type": "display_data"
    }
   ],
   "source": [
    "# 투자 히스토리\n",
    "plt.plot(total_money_list)\n",
    "plt.title(\"history\")\n",
    "plt.show()"
   ]
  }
 ],
 "metadata": {
  "kernelspec": {
   "display_name": "Python 3",
   "language": "python",
   "name": "python3"
  },
  "language_info": {
   "codemirror_mode": {
    "name": "ipython",
    "version": 3
   },
   "file_extension": ".py",
   "mimetype": "text/x-python",
   "name": "python",
   "nbconvert_exporter": "python",
   "pygments_lexer": "ipython3",
   "version": "3.8.8"
  }
 },
 "nbformat": 4,
 "nbformat_minor": 5
}
